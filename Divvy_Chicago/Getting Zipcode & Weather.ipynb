{
 "cells": [
  {
   "cell_type": "code",
   "execution_count": 1,
   "metadata": {},
   "outputs": [],
   "source": [
    "import pandas as pd\n",
    "import numpy as np\n",
    "import matplotlib.pyplot as plt \n",
    "import seaborn as sns\n",
    "import plotly.graph_objects as go\n",
    "import geopandas as gpd\n",
    "%matplotlib inline "
   ]
  },
  {
   "cell_type": "markdown",
   "metadata": {},
   "source": [
    "## Ways of Getting Zipcodes with Lat, Lon Data\n",
    "- To use this method, round up lat,lon to the same levels for both Divvy and downloaded zipcode data."
   ]
  },
  {
   "cell_type": "markdown",
   "metadata": {},
   "source": [
    "### Method 1: Download Preprocessed Data\n",
    "\n",
    "#### Data\n",
    "\n",
    "- Description: US Zip Code Latitude & Longitude (filtered for IL)\n",
    "- Source: https://public.opendatasoft.com/explore/dataset/us-zip-code-latitude-and-longitude/export/?refine.state=IL"
   ]
  },
  {
   "cell_type": "markdown",
   "metadata": {},
   "source": [
    "### Method 2: Google Geocoding API\n",
    "- To use the API, need to get an API KEY.\n",
    "- More about this: https://developers.google.com/maps/documentation/geocoding/get-api-key\n",
    "- Please refer to 'get_zipcodes.py' for the complete code."
   ]
  },
  {
   "cell_type": "code",
   "execution_count": 2,
   "metadata": {},
   "outputs": [],
   "source": [
    "import googlemaps"
   ]
  },
  {
   "cell_type": "markdown",
   "metadata": {},
   "source": [
    "#### Example of Using 'reverse_geocode' for a given point (41.88949182, -87.68821937)"
   ]
  },
  {
   "cell_type": "code",
   "execution_count": null,
   "metadata": {},
   "outputs": [],
   "source": [
    "gmaps = googlemaps.Client(key=API_KEY)\n",
    "\n",
    "# Look up an address with reverse geocoding\n",
    "reverse_geocode_result = gmaps.reverse_geocode((41.909396, -87.677692))\n",
    "\n",
    "# Geocoding an address\n",
    "# geocode_result = gmaps.geocode('1600 Amphitheatre Parkway, Mountain View, CA')\n",
    "\n",
    "# Request directions via public transit\n",
    "# now = datetime.now()\n",
    "# directions_result = gmaps.directions(\"Sydney Town Hall\",\n",
    "#                                      \"Parramatta, NSW\",\n",
    "#                                      mode=\"transit\",\n",
    "#                                      departure_time=now)"
   ]
  },
  {
   "cell_type": "code",
   "execution_count": 43,
   "metadata": {},
   "outputs": [],
   "source": [
    "reverse_geocode_result = gmaps.reverse_geocode((41.88949182, -87.68821937))"
   ]
  },
  {
   "cell_type": "markdown",
   "metadata": {},
   "source": [
    "#### Data Stored under 'address_components'"
   ]
  },
  {
   "cell_type": "code",
   "execution_count": 44,
   "metadata": {},
   "outputs": [
    {
     "data": {
      "text/plain": [
       "[{'long_name': '2429', 'short_name': '2429', 'types': ['street_number']},\n",
       " {'long_name': 'West Hubbard Street',\n",
       "  'short_name': 'W Hubbard St',\n",
       "  'types': ['route']},\n",
       " {'long_name': 'West Town',\n",
       "  'short_name': 'West Town',\n",
       "  'types': ['neighborhood', 'political']},\n",
       " {'long_name': 'Chicago',\n",
       "  'short_name': 'Chicago',\n",
       "  'types': ['locality', 'political']},\n",
       " {'long_name': 'Cook County',\n",
       "  'short_name': 'Cook County',\n",
       "  'types': ['administrative_area_level_2', 'political']},\n",
       " {'long_name': 'Illinois',\n",
       "  'short_name': 'IL',\n",
       "  'types': ['administrative_area_level_1', 'political']},\n",
       " {'long_name': 'United States',\n",
       "  'short_name': 'US',\n",
       "  'types': ['country', 'political']},\n",
       " {'long_name': '60612', 'short_name': '60612', 'types': ['postal_code']},\n",
       " {'long_name': '1417', 'short_name': '1417', 'types': ['postal_code_suffix']}]"
      ]
     },
     "execution_count": 44,
     "metadata": {},
     "output_type": "execute_result"
    }
   ],
   "source": [
    "reverse_geocode_result[0]['address_components']"
   ]
  },
  {
   "cell_type": "markdown",
   "metadata": {},
   "source": [
    "#### Extracting the Zipcode from the above"
   ]
  },
  {
   "cell_type": "code",
   "execution_count": 41,
   "metadata": {},
   "outputs": [
    {
     "data": {
      "text/plain": [
       "'60613'"
      ]
     },
     "execution_count": 41,
     "metadata": {},
     "output_type": "execute_result"
    }
   ],
   "source": [
    "reverse_geocode_result[0]['formatted_address'].split(',')[2][4:]"
   ]
  },
  {
   "cell_type": "code",
   "execution_count": null,
   "metadata": {},
   "outputs": [],
   "source": [
    "info_dict = {'address':[], 'community':[], 'zipcode':[]}\n",
    "\n",
    "gmaps = googlemaps.Client(key=API_KEY)\n",
    "\n",
    "for latitude in divvy['FROM LATITUDE'].values:\n",
    "    for longitude in divvy['FROM LONGITUDE'].values:\n",
    "        reverse_geocode_result = gmaps.reverse_geocode((\"{},{}\").format(latitude, longitude))\n",
    "        info_dict['address'].append(reverse_geocode_result[0]['formatted_address'].split(',')[0])\n",
    "        info_dict['community'].append(reverse_geocode_result[0]['address_components'][2]['long_name'])\n",
    "\n",
    "        if len(reverse_geocode_result[0]['address_components']) < 7:\n",
    "            continue\n",
    "        elif len(reverse_geocode_result[0]['address_components']) == 7:\n",
    "            info_dict['zipcode'].append(reverse_geocode_result[0]['address_components'][6]['long_name'])\n",
    "        else:\n",
    "            info_dict['zipcode'].append(reverse_geocode_result[0]['address_components'][7]['long_name'])\n",
    "        \n"
   ]
  },
  {
   "cell_type": "code",
   "execution_count": 148,
   "metadata": {},
   "outputs": [
    {
     "data": {
      "text/plain": [
       "[{'address_components': [{'long_name': '2002',\n",
       "    'short_name': '2002',\n",
       "    'types': ['street_number']},\n",
       "   {'long_name': 'West Pierce Avenue',\n",
       "    'short_name': 'W Pierce Ave',\n",
       "    'types': ['route']},\n",
       "   {'long_name': 'West Town',\n",
       "    'short_name': 'West Town',\n",
       "    'types': ['neighborhood', 'political']},\n",
       "   {'long_name': 'Chicago',\n",
       "    'short_name': 'Chicago',\n",
       "    'types': ['locality', 'political']},\n",
       "   {'long_name': 'Cook County',\n",
       "    'short_name': 'Cook County',\n",
       "    'types': ['administrative_area_level_2', 'political']},\n",
       "   {'long_name': 'Illinois',\n",
       "    'short_name': 'IL',\n",
       "    'types': ['administrative_area_level_1', 'political']},\n",
       "   {'long_name': 'United States',\n",
       "    'short_name': 'US',\n",
       "    'types': ['country', 'political']},\n",
       "   {'long_name': '60622', 'short_name': '60622', 'types': ['postal_code']}],\n",
       "  'formatted_address': '2002 W Pierce Ave, Chicago, IL 60622, USA',\n",
       "  'geometry': {'location': {'lat': 41.9094, 'lng': -87.67769},\n",
       "   'location_type': 'ROOFTOP',\n",
       "   'viewport': {'northeast': {'lat': 41.9107489802915,\n",
       "     'lng': -87.6763410197085},\n",
       "    'southwest': {'lat': 41.9080510197085, 'lng': -87.67903898029151}}},\n",
       "  'place_id': 'ChIJS9v9YsfSD4gRgG3N_FcnZ6Q',\n",
       "  'plus_code': {'compound_code': 'W85C+QW Chicago, Illinois, United States',\n",
       "   'global_code': '86HJW85C+QW'},\n",
       "  'types': ['establishment', 'point_of_interest']},\n",
       " {'address_components': [{'long_name': '2002',\n",
       "    'short_name': '2002',\n",
       "    'types': ['street_number']},\n",
       "   {'long_name': 'West Pierce Avenue',\n",
       "    'short_name': 'W Pierce Ave',\n",
       "    'types': ['route']},\n",
       "   {'long_name': 'West Town',\n",
       "    'short_name': 'West Town',\n",
       "    'types': ['neighborhood', 'political']},\n",
       "   {'long_name': 'Chicago',\n",
       "    'short_name': 'Chicago',\n",
       "    'types': ['locality', 'political']},\n",
       "   {'long_name': 'Cook County',\n",
       "    'short_name': 'Cook County',\n",
       "    'types': ['administrative_area_level_2', 'political']},\n",
       "   {'long_name': 'Illinois',\n",
       "    'short_name': 'IL',\n",
       "    'types': ['administrative_area_level_1', 'political']},\n",
       "   {'long_name': 'United States',\n",
       "    'short_name': 'US',\n",
       "    'types': ['country', 'political']},\n",
       "   {'long_name': '60622', 'short_name': '60622', 'types': ['postal_code']}],\n",
       "  'formatted_address': '2002 W Pierce Ave, Chicago, IL 60622, USA',\n",
       "  'geometry': {'location': {'lat': 41.9094, 'lng': -87.67769},\n",
       "   'location_type': 'ROOFTOP',\n",
       "   'viewport': {'northeast': {'lat': 41.9107489802915,\n",
       "     'lng': -87.6763410197085},\n",
       "    'southwest': {'lat': 41.9080510197085, 'lng': -87.67903898029151}}},\n",
       "  'place_id': 'ChIJS9v9YsfSD4gRiOmKNfN-9LQ',\n",
       "  'plus_code': {'compound_code': 'W85C+QW Chicago, Illinois, United States',\n",
       "   'global_code': '86HJW85C+QW'},\n",
       "  'types': ['street_address']},\n",
       " {'address_components': [{'long_name': '1542',\n",
       "    'short_name': '1542',\n",
       "    'types': ['street_number']},\n",
       "   {'long_name': 'North Damen Avenue',\n",
       "    'short_name': 'N Damen Ave',\n",
       "    'types': ['route']},\n",
       "   {'long_name': 'West Town',\n",
       "    'short_name': 'West Town',\n",
       "    'types': ['neighborhood', 'political']},\n",
       "   {'long_name': 'Chicago',\n",
       "    'short_name': 'Chicago',\n",
       "    'types': ['locality', 'political']},\n",
       "   {'long_name': 'Cook County',\n",
       "    'short_name': 'Cook County',\n",
       "    'types': ['administrative_area_level_2', 'political']},\n",
       "   {'long_name': 'Illinois',\n",
       "    'short_name': 'IL',\n",
       "    'types': ['administrative_area_level_1', 'political']},\n",
       "   {'long_name': 'United States',\n",
       "    'short_name': 'US',\n",
       "    'types': ['country', 'political']},\n",
       "   {'long_name': '60622', 'short_name': '60622', 'types': ['postal_code']},\n",
       "   {'long_name': '1942',\n",
       "    'short_name': '1942',\n",
       "    'types': ['postal_code_suffix']}],\n",
       "  'formatted_address': '1542 N Damen Ave, Chicago, IL 60622, USA',\n",
       "  'geometry': {'bounds': {'northeast': {'lat': 41.9098582, 'lng': -87.6775779},\n",
       "    'southwest': {'lat': 41.9094576, 'lng': -87.67811019999999}},\n",
       "   'location': {'lat': 41.9096503, 'lng': -87.6777658},\n",
       "   'location_type': 'ROOFTOP',\n",
       "   'viewport': {'northeast': {'lat': 41.9110068802915,\n",
       "     'lng': -87.6764950697085},\n",
       "    'southwest': {'lat': 41.9083089197085, 'lng': -87.6791930302915}}},\n",
       "  'place_id': 'ChIJEQp1YcfSD4gRfsVIlq2IXmk',\n",
       "  'types': ['premise']},\n",
       " {'address_components': [{'long_name': '2004',\n",
       "    'short_name': '2004',\n",
       "    'types': ['street_number']},\n",
       "   {'long_name': 'West Pierce Avenue',\n",
       "    'short_name': 'W Pierce Ave',\n",
       "    'types': ['route']},\n",
       "   {'long_name': 'West Town',\n",
       "    'short_name': 'West Town',\n",
       "    'types': ['neighborhood', 'political']},\n",
       "   {'long_name': 'Chicago',\n",
       "    'short_name': 'Chicago',\n",
       "    'types': ['locality', 'political']},\n",
       "   {'long_name': 'Cook County',\n",
       "    'short_name': 'Cook County',\n",
       "    'types': ['administrative_area_level_2', 'political']},\n",
       "   {'long_name': 'Illinois',\n",
       "    'short_name': 'IL',\n",
       "    'types': ['administrative_area_level_1', 'political']},\n",
       "   {'long_name': 'United States',\n",
       "    'short_name': 'US',\n",
       "    'types': ['country', 'political']},\n",
       "   {'long_name': '60622', 'short_name': '60622', 'types': ['postal_code']}],\n",
       "  'formatted_address': '2004 W Pierce Ave, Chicago, IL 60622, USA',\n",
       "  'geometry': {'location': {'lat': 41.9093587, 'lng': -87.6777283},\n",
       "   'location_type': 'RANGE_INTERPOLATED',\n",
       "   'viewport': {'northeast': {'lat': 41.91070768029149,\n",
       "     'lng': -87.67637931970849},\n",
       "    'southwest': {'lat': 41.9080097197085, 'lng': -87.6790772802915}}},\n",
       "  'place_id': 'EikyMDA0IFcgUGllcmNlIEF2ZSwgQ2hpY2FnbywgSUwgNjA2MjIsIFVTQSIbEhkKFAoSCf2UlWLH0g-IETwqlPa7ofHkENQP',\n",
       "  'types': ['street_address']},\n",
       " {'address_components': [{'long_name': '2015-2001',\n",
       "    'short_name': '2015-2001',\n",
       "    'types': ['street_number']},\n",
       "   {'long_name': 'West Pierce Avenue',\n",
       "    'short_name': 'W Pierce Ave',\n",
       "    'types': ['route']},\n",
       "   {'long_name': 'West Town',\n",
       "    'short_name': 'West Town',\n",
       "    'types': ['neighborhood', 'political']},\n",
       "   {'long_name': 'Chicago',\n",
       "    'short_name': 'Chicago',\n",
       "    'types': ['locality', 'political']},\n",
       "   {'long_name': 'Cook County',\n",
       "    'short_name': 'Cook County',\n",
       "    'types': ['administrative_area_level_2', 'political']},\n",
       "   {'long_name': 'Illinois',\n",
       "    'short_name': 'IL',\n",
       "    'types': ['administrative_area_level_1', 'political']},\n",
       "   {'long_name': 'United States',\n",
       "    'short_name': 'US',\n",
       "    'types': ['country', 'political']},\n",
       "   {'long_name': '60622', 'short_name': '60622', 'types': ['postal_code']}],\n",
       "  'formatted_address': '2015-2001 W Pierce Ave, Chicago, IL 60622, USA',\n",
       "  'geometry': {'bounds': {'northeast': {'lat': 41.9093726, 'lng': -87.6774202},\n",
       "    'southwest': {'lat': 41.9093406, 'lng': -87.67813029999999}},\n",
       "   'location': {'lat': 41.9093566, 'lng': -87.6777753},\n",
       "   'location_type': 'GEOMETRIC_CENTER',\n",
       "   'viewport': {'northeast': {'lat': 41.9107055802915,\n",
       "     'lng': -87.67642626970849},\n",
       "    'southwest': {'lat': 41.9080076197085, 'lng': -87.67912423029149}}},\n",
       "  'place_id': 'ChIJ_ZSVYsfSD4gRPSqU9ruh8eQ',\n",
       "  'types': ['route']},\n",
       " {'address_components': [{'long_name': 'Wicker Park',\n",
       "    'short_name': 'Wicker Park',\n",
       "    'types': ['neighborhood', 'political']},\n",
       "   {'long_name': 'Chicago',\n",
       "    'short_name': 'Chicago',\n",
       "    'types': ['locality', 'political']},\n",
       "   {'long_name': 'Cook County',\n",
       "    'short_name': 'Cook County',\n",
       "    'types': ['administrative_area_level_2', 'political']},\n",
       "   {'long_name': 'Illinois',\n",
       "    'short_name': 'IL',\n",
       "    'types': ['administrative_area_level_1', 'political']},\n",
       "   {'long_name': 'United States',\n",
       "    'short_name': 'US',\n",
       "    'types': ['country', 'political']}],\n",
       "  'formatted_address': 'Wicker Park, Chicago, IL, USA',\n",
       "  'geometry': {'bounds': {'northeast': {'lat': 41.9147157, 'lng': -87.6675296},\n",
       "    'southwest': {'lat': 41.9030151, 'lng': -87.6873155}},\n",
       "   'location': {'lat': 41.9104892, 'lng': -87.6775672},\n",
       "   'location_type': 'APPROXIMATE',\n",
       "   'viewport': {'northeast': {'lat': 41.9147157, 'lng': -87.6675296},\n",
       "    'southwest': {'lat': 41.9030151, 'lng': -87.6873155}}},\n",
       "  'place_id': 'ChIJHyDL2cXSD4gRL6ENlLzZlZw',\n",
       "  'types': ['neighborhood', 'political']},\n",
       " {'address_components': [{'long_name': '60622',\n",
       "    'short_name': '60622',\n",
       "    'types': ['postal_code']},\n",
       "   {'long_name': 'Chicago',\n",
       "    'short_name': 'Chicago',\n",
       "    'types': ['locality', 'political']},\n",
       "   {'long_name': 'Cook County',\n",
       "    'short_name': 'Cook County',\n",
       "    'types': ['administrative_area_level_2', 'political']},\n",
       "   {'long_name': 'Illinois',\n",
       "    'short_name': 'IL',\n",
       "    'types': ['administrative_area_level_1', 'political']},\n",
       "   {'long_name': 'United States',\n",
       "    'short_name': 'US',\n",
       "    'types': ['country', 'political']}],\n",
       "  'formatted_address': 'Chicago, IL 60622, USA',\n",
       "  'geometry': {'bounds': {'northeast': {'lat': 41.9195731, 'lng': -87.666153},\n",
       "    'southwest': {'lat': 41.88872, 'lng': -87.7067041}},\n",
       "   'location': {'lat': 41.9013087, 'lng': -87.68276759999999},\n",
       "   'location_type': 'APPROXIMATE',\n",
       "   'viewport': {'northeast': {'lat': 41.9195731, 'lng': -87.666153},\n",
       "    'southwest': {'lat': 41.88872, 'lng': -87.7067041}}},\n",
       "  'place_id': 'ChIJDe0hzsnSD4gRKquVpZ1evcI',\n",
       "  'types': ['postal_code']},\n",
       " {'address_components': [{'long_name': 'Chicago',\n",
       "    'short_name': 'Chicago',\n",
       "    'types': ['locality', 'political']},\n",
       "   {'long_name': 'Cook County',\n",
       "    'short_name': 'Cook County',\n",
       "    'types': ['administrative_area_level_2', 'political']},\n",
       "   {'long_name': 'Illinois',\n",
       "    'short_name': 'IL',\n",
       "    'types': ['administrative_area_level_1', 'political']},\n",
       "   {'long_name': 'United States',\n",
       "    'short_name': 'US',\n",
       "    'types': ['country', 'political']}],\n",
       "  'formatted_address': 'Chicago, IL, USA',\n",
       "  'geometry': {'bounds': {'northeast': {'lat': 42.023131,\n",
       "     'lng': -87.52366099999999},\n",
       "    'southwest': {'lat': 41.6443349, 'lng': -87.9402669}},\n",
       "   'location': {'lat': 41.8781136, 'lng': -87.6297982},\n",
       "   'location_type': 'APPROXIMATE',\n",
       "   'viewport': {'northeast': {'lat': 42.023131, 'lng': -87.52366099999999},\n",
       "    'southwest': {'lat': 41.6443349, 'lng': -87.9402669}}},\n",
       "  'place_id': 'ChIJ7cv00DwsDogRAMDACa2m4K8',\n",
       "  'types': ['locality', 'political']},\n",
       " {'address_components': [{'long_name': 'Cook County',\n",
       "    'short_name': 'Cook County',\n",
       "    'types': ['administrative_area_level_2', 'political']},\n",
       "   {'long_name': 'Illinois',\n",
       "    'short_name': 'IL',\n",
       "    'types': ['administrative_area_level_1', 'political']},\n",
       "   {'long_name': 'United States',\n",
       "    'short_name': 'US',\n",
       "    'types': ['country', 'political']}],\n",
       "  'formatted_address': 'Cook County, IL, USA',\n",
       "  'geometry': {'bounds': {'northeast': {'lat': 42.1543239, 'lng': -87.1111619},\n",
       "    'southwest': {'lat': 41.46953389999999, 'lng': -88.2634779}},\n",
       "   'location': {'lat': 41.7376587, 'lng': -87.697554},\n",
       "   'location_type': 'APPROXIMATE',\n",
       "   'viewport': {'northeast': {'lat': 42.1543239, 'lng': -87.1111619},\n",
       "    'southwest': {'lat': 41.46953389999999, 'lng': -88.2634779}}},\n",
       "  'place_id': 'ChIJdRNDZqqxD4gRPOAOIwnX2Yo',\n",
       "  'types': ['administrative_area_level_2', 'political']},\n",
       " {'address_components': [{'long_name': 'Illinois',\n",
       "    'short_name': 'IL',\n",
       "    'types': ['administrative_area_level_1', 'political']},\n",
       "   {'long_name': 'United States',\n",
       "    'short_name': 'US',\n",
       "    'types': ['country', 'political']}],\n",
       "  'formatted_address': 'Illinois, USA',\n",
       "  'geometry': {'bounds': {'northeast': {'lat': 42.5083379,\n",
       "     'lng': -87.01993499999999},\n",
       "    'southwest': {'lat': 36.970298, 'lng': -91.5130789}},\n",
       "   'location': {'lat': 40.6331249, 'lng': -89.3985283},\n",
       "   'location_type': 'APPROXIMATE',\n",
       "   'viewport': {'northeast': {'lat': 42.5083379, 'lng': -87.01993499999999},\n",
       "    'southwest': {'lat': 36.970298, 'lng': -91.5130789}}},\n",
       "  'place_id': 'ChIJGSZubzgtC4gRVlkRZFCCFX8',\n",
       "  'types': ['administrative_area_level_1', 'political']},\n",
       " {'address_components': [{'long_name': 'United States',\n",
       "    'short_name': 'US',\n",
       "    'types': ['country', 'political']}],\n",
       "  'formatted_address': 'United States',\n",
       "  'geometry': {'bounds': {'northeast': {'lat': 71.5388001, 'lng': -66.885417},\n",
       "    'southwest': {'lat': 18.7763, 'lng': 170.5957}},\n",
       "   'location': {'lat': 37.09024, 'lng': -95.712891},\n",
       "   'location_type': 'APPROXIMATE',\n",
       "   'viewport': {'northeast': {'lat': 71.5388001, 'lng': -66.885417},\n",
       "    'southwest': {'lat': 18.7763, 'lng': 170.5957}}},\n",
       "  'place_id': 'ChIJCzYy5IS16lQRQrfeQ5K5Oxw',\n",
       "  'types': ['country', 'political']}]"
      ]
     },
     "execution_count": 148,
     "metadata": {},
     "output_type": "execute_result"
    }
   ],
   "source": [
    "reverse_geocode_result"
   ]
  },
  {
   "cell_type": "code",
   "execution_count": 167,
   "metadata": {},
   "outputs": [
    {
     "data": {
      "text/plain": [
       "'2002 W Pierce Ave'"
      ]
     },
     "execution_count": 167,
     "metadata": {},
     "output_type": "execute_result"
    }
   ],
   "source": [
    "reverse_geocode_result[0]['formatted_address'].split(',')[0]"
   ]
  },
  {
   "cell_type": "code",
   "execution_count": 158,
   "metadata": {},
   "outputs": [
    {
     "data": {
      "text/plain": [
       "'60622'"
      ]
     },
     "execution_count": 158,
     "metadata": {},
     "output_type": "execute_result"
    }
   ],
   "source": [
    "reverse_geocode_result[0]['address_components'][7]['long_name']"
   ]
  },
  {
   "cell_type": "code",
   "execution_count": 170,
   "metadata": {},
   "outputs": [
    {
     "data": {
      "text/plain": [
       "'West Town'"
      ]
     },
     "execution_count": 170,
     "metadata": {},
     "output_type": "execute_result"
    }
   ],
   "source": [
    "reverse_geocode_result[0]['address_components'][2]['long_name']"
   ]
  },
  {
   "cell_type": "markdown",
   "metadata": {},
   "source": [
    "## Ways of Getting Historical Weather Data"
   ]
  },
  {
   "cell_type": "markdown",
   "metadata": {},
   "source": [
    "### Method 1: WebScraping From the Website\n",
    "- Not Used as it required payment."
   ]
  },
  {
   "cell_type": "code",
   "execution_count": 25,
   "metadata": {},
   "outputs": [],
   "source": [
    "from bs4 import BeautifulSoup\n",
    "import requests"
   ]
  },
  {
   "cell_type": "code",
   "execution_count": 27,
   "metadata": {},
   "outputs": [],
   "source": [
    "page_link = 'https://www.melissa.com/v2/lookups/latlngzip4/index?lat=41.909396&lng=-87.677692'"
   ]
  },
  {
   "cell_type": "code",
   "execution_count": 28,
   "metadata": {},
   "outputs": [],
   "source": [
    "page_response = requests.get(page_link, timeout=5)"
   ]
  },
  {
   "cell_type": "code",
   "execution_count": 29,
   "metadata": {},
   "outputs": [],
   "source": [
    "page_content = BeautifulSoup(page_response.content, \"html.parser\")"
   ]
  },
  {
   "cell_type": "code",
   "execution_count": 81,
   "metadata": {},
   "outputs": [],
   "source": [
    "result = page_content.find_all('td', {'class':'text-left bold-text'})"
   ]
  },
  {
   "cell_type": "code",
   "execution_count": 133,
   "metadata": {},
   "outputs": [
    {
     "data": {
      "text/plain": [
       "{'address': ['2001 W Pierce Ave'],\n",
       " 'city': ['Chicago'],\n",
       " 'state': ['IL'],\n",
       " 'zipcode': ['60622-1947']}"
      ]
     },
     "execution_count": 133,
     "metadata": {},
     "output_type": "execute_result"
    }
   ],
   "source": [
    "info = {'address':[], 'city':[], 'state':[], 'zipcode':[]}\n",
    "\n",
    "info['address'].append(result[0].contents[0].strip())\n",
    "info['city'].append(result[1].contents[0].strip())\n",
    "info['state'].append(result[2].contents[0].strip())\n",
    "info['zipcode'].append(result[3].contents[0].strip())\n",
    "    \n",
    "info"
   ]
  },
  {
   "cell_type": "markdown",
   "metadata": {},
   "source": [
    "#### From Station Location Weather Info"
   ]
  },
  {
   "cell_type": "code",
   "execution_count": null,
   "metadata": {},
   "outputs": [],
   "source": [
    "page_link = 'https://www.melissa.com/v2/lookups/latlngzip4/index?lat={}&lng={}'\n",
    "info_dict = {'address':[], 'city':[], 'state':[], 'zipcode':[]}\n",
    "\n",
    "\n",
    "for latitude in divvy['FROM LATITUDE'].values:\n",
    "    for longitude in divvy['FROM LONGITUDE'].values:\n",
    "        print(page_link.format(latitude, longitude))\n",
    "        page_response = requests.get(page_link.format(latitude, longitude), timeout=5)\n",
    "        page_content = BeautifulSoup(page_response.content, \"html.parser\")\n",
    "        print(page_content)\n",
    "        result = page_content.find_all('td', {'class':'text-left bold-text'})\n",
    "        print(result)\n",
    "        result = result[:4]\n",
    "        info_dict['address'].append(result[0].contents[0].strip())\n",
    "        info_dict['city'].append(result[1].contents[0].strip())\n",
    "        info_dict['state'].append(result[2].contents[0].strip())\n",
    "        info_dict['zipcode'].append(result[3].contents[0].strip())\n"
   ]
  },
  {
   "cell_type": "markdown",
   "metadata": {},
   "source": [
    "### Method 2: Using 'DarkSky' \n",
    "- Darksky requires to pass datetime in 'unix' to query.\n",
    "    - Created a dataframe contains UNIX date.\n",
    "- Please refer to 'get_weather.py' for the complete code.\n",
    "- More about this: https://darksky.net/dev"
   ]
  },
  {
   "cell_type": "markdown",
   "metadata": {},
   "source": [
    "#### Create UNIX DataFrame \n",
    "\n",
    "    * pandas.date_range(start, end, freq)\n",
    "    : Creates datetimeindex with dates range from starting date to end date. \n",
    "    \n",
    "    -> Input:\n",
    "        start - (str) Starting date, i.e. '1/1/2018'\n",
    "        end - (str) Ending date, i.e. '12/31/2018'\n",
    "        freq - (str) Frequency of date data to be generated, i.e. 'D': daily\n",
    "        "
   ]
  },
  {
   "cell_type": "code",
   "execution_count": 20,
   "metadata": {},
   "outputs": [],
   "source": [
    "import datetime"
   ]
  },
  {
   "cell_type": "code",
   "execution_count": 29,
   "metadata": {},
   "outputs": [],
   "source": [
    "# Creates datetime index that contains daily date data from 1/1/2018 to 12/31/2018.\n",
    "\n",
    "date_rng = pd.date_range(start='1/1/2018', end='12/31/2018', freq='D')"
   ]
  },
  {
   "cell_type": "code",
   "execution_count": 30,
   "metadata": {},
   "outputs": [],
   "source": [
    "# Creates a dataframe using the above series of datetime index.\n",
    "# Sets the column name as 'date'.\n",
    "\n",
    "unix_date = pd.DataFrame(date_rng, columns=['date'])"
   ]
  },
  {
   "cell_type": "code",
   "execution_count": 31,
   "metadata": {},
   "outputs": [
    {
     "data": {
      "text/html": [
       "<div>\n",
       "<style scoped>\n",
       "    .dataframe tbody tr th:only-of-type {\n",
       "        vertical-align: middle;\n",
       "    }\n",
       "\n",
       "    .dataframe tbody tr th {\n",
       "        vertical-align: top;\n",
       "    }\n",
       "\n",
       "    .dataframe thead th {\n",
       "        text-align: right;\n",
       "    }\n",
       "</style>\n",
       "<table border=\"1\" class=\"dataframe\">\n",
       "  <thead>\n",
       "    <tr style=\"text-align: right;\">\n",
       "      <th></th>\n",
       "      <th>date</th>\n",
       "    </tr>\n",
       "  </thead>\n",
       "  <tbody>\n",
       "    <tr>\n",
       "      <th>0</th>\n",
       "      <td>2018-01-01</td>\n",
       "    </tr>\n",
       "    <tr>\n",
       "      <th>1</th>\n",
       "      <td>2018-01-02</td>\n",
       "    </tr>\n",
       "    <tr>\n",
       "      <th>2</th>\n",
       "      <td>2018-01-03</td>\n",
       "    </tr>\n",
       "    <tr>\n",
       "      <th>3</th>\n",
       "      <td>2018-01-04</td>\n",
       "    </tr>\n",
       "    <tr>\n",
       "      <th>4</th>\n",
       "      <td>2018-01-05</td>\n",
       "    </tr>\n",
       "  </tbody>\n",
       "</table>\n",
       "</div>"
      ],
      "text/plain": [
       "        date\n",
       "0 2018-01-01\n",
       "1 2018-01-02\n",
       "2 2018-01-03\n",
       "3 2018-01-04\n",
       "4 2018-01-05"
      ]
     },
     "execution_count": 31,
     "metadata": {},
     "output_type": "execute_result"
    }
   ],
   "source": [
    "unix_date.head()"
   ]
  },
  {
   "cell_type": "code",
   "execution_count": 32,
   "metadata": {},
   "outputs": [],
   "source": [
    "# Function that converts date to unix.\n",
    "\n",
    "def timedate_to_utc(date):\n",
    "    return int(date.replace(tzinfo=datetime.timezone.utc).timestamp())\n"
   ]
  },
  {
   "cell_type": "code",
   "execution_count": 33,
   "metadata": {},
   "outputs": [],
   "source": [
    "# Change all data in 'df' dataframe to unix.\n",
    "\n",
    "unix_date = unix_date.applymap(timedate_to_utc)"
   ]
  },
  {
   "cell_type": "code",
   "execution_count": 34,
   "metadata": {},
   "outputs": [
    {
     "data": {
      "text/html": [
       "<div>\n",
       "<style scoped>\n",
       "    .dataframe tbody tr th:only-of-type {\n",
       "        vertical-align: middle;\n",
       "    }\n",
       "\n",
       "    .dataframe tbody tr th {\n",
       "        vertical-align: top;\n",
       "    }\n",
       "\n",
       "    .dataframe thead th {\n",
       "        text-align: right;\n",
       "    }\n",
       "</style>\n",
       "<table border=\"1\" class=\"dataframe\">\n",
       "  <thead>\n",
       "    <tr style=\"text-align: right;\">\n",
       "      <th></th>\n",
       "      <th>date</th>\n",
       "    </tr>\n",
       "  </thead>\n",
       "  <tbody>\n",
       "    <tr>\n",
       "      <th>0</th>\n",
       "      <td>1514764800</td>\n",
       "    </tr>\n",
       "    <tr>\n",
       "      <th>1</th>\n",
       "      <td>1514851200</td>\n",
       "    </tr>\n",
       "    <tr>\n",
       "      <th>2</th>\n",
       "      <td>1514937600</td>\n",
       "    </tr>\n",
       "    <tr>\n",
       "      <th>3</th>\n",
       "      <td>1515024000</td>\n",
       "    </tr>\n",
       "    <tr>\n",
       "      <th>4</th>\n",
       "      <td>1515110400</td>\n",
       "    </tr>\n",
       "  </tbody>\n",
       "</table>\n",
       "</div>"
      ],
      "text/plain": [
       "         date\n",
       "0  1514764800\n",
       "1  1514851200\n",
       "2  1514937600\n",
       "3  1515024000\n",
       "4  1515110400"
      ]
     },
     "execution_count": 34,
     "metadata": {},
     "output_type": "execute_result"
    }
   ],
   "source": [
    "unix_date.head()"
   ]
  },
  {
   "cell_type": "code",
   "execution_count": 35,
   "metadata": {},
   "outputs": [],
   "source": [
    "# Save the dataframe as .csv file.\n",
    "\n",
    "unix_date.to_csv(\"unix_date.csv\")"
   ]
  },
  {
   "cell_type": "markdown",
   "metadata": {},
   "source": [
    "#### Example of the data "
   ]
  },
  {
   "cell_type": "code",
   "execution_count": 52,
   "metadata": {},
   "outputs": [],
   "source": [
    "page_link = 'https://api.darksky.net/forecast/e642adda2f835d2851b554f38750cce2/41.88949182,-87.68821937,1514764800'"
   ]
  },
  {
   "cell_type": "code",
   "execution_count": 53,
   "metadata": {},
   "outputs": [],
   "source": [
    "page_response = requests.get(page_link, timeout=5).json()"
   ]
  },
  {
   "cell_type": "code",
   "execution_count": 54,
   "metadata": {},
   "outputs": [
    {
     "data": {
      "text/plain": [
       "{'data': [{'time': 1514700000,\n",
       "   'summary': 'Mostly cloudy throughout the day.',\n",
       "   'icon': 'partly-cloudy-day',\n",
       "   'sunriseTime': 1514726376,\n",
       "   'sunsetTime': 1514759441,\n",
       "   'moonPhase': 0.46,\n",
       "   'precipIntensity': 0,\n",
       "   'precipIntensityMax': 0,\n",
       "   'precipProbability': 0,\n",
       "   'temperatureHigh': 13.35,\n",
       "   'temperatureHighTime': 1514750400,\n",
       "   'temperatureLow': -7.73,\n",
       "   'temperatureLowTime': 1514815200,\n",
       "   'apparentTemperatureHigh': 3.18,\n",
       "   'apparentTemperatureHighTime': 1514754000,\n",
       "   'apparentTemperatureLow': -21.37,\n",
       "   'apparentTemperatureLowTime': 1514815200,\n",
       "   'dewPoint': -4,\n",
       "   'humidity': 0.66,\n",
       "   'pressure': 1035.25,\n",
       "   'windSpeed': 5.47,\n",
       "   'windGust': 11.71,\n",
       "   'windGustTime': 1514750400,\n",
       "   'windBearing': 298,\n",
       "   'cloudCover': 0.54,\n",
       "   'uvIndex': 1,\n",
       "   'uvIndexTime': 1514743200,\n",
       "   'visibility': 9.988,\n",
       "   'temperatureMin': -0.62,\n",
       "   'temperatureMinTime': 1514786400,\n",
       "   'temperatureMax': 13.35,\n",
       "   'temperatureMaxTime': 1514750400,\n",
       "   'apparentTemperatureMin': -13.05,\n",
       "   'apparentTemperatureMinTime': 1514786400,\n",
       "   'apparentTemperatureMax': 3.18,\n",
       "   'apparentTemperatureMaxTime': 1514754000}]}"
      ]
     },
     "execution_count": 54,
     "metadata": {},
     "output_type": "execute_result"
    }
   ],
   "source": [
    "page_response['daily']"
   ]
  },
  {
   "cell_type": "code",
   "execution_count": 83,
   "metadata": {},
   "outputs": [],
   "source": [
    "info = page_response['daily']['data'][0]"
   ]
  },
  {
   "cell_type": "code",
   "execution_count": 88,
   "metadata": {},
   "outputs": [
    {
     "data": {
      "text/plain": [
       "{'time': 1514700000,\n",
       " 'summary': 'Mostly cloudy throughout the day.',\n",
       " 'icon': 'partly-cloudy-day',\n",
       " 'sunriseTime': 1514726376,\n",
       " 'sunsetTime': 1514759441,\n",
       " 'moonPhase': 0.46,\n",
       " 'precipIntensity': 0,\n",
       " 'precipIntensityMax': 0,\n",
       " 'precipProbability': 0,\n",
       " 'temperatureHigh': 13.35,\n",
       " 'temperatureHighTime': 1514750400,\n",
       " 'temperatureLow': -7.73,\n",
       " 'temperatureLowTime': 1514815200,\n",
       " 'apparentTemperatureHigh': 3.18,\n",
       " 'apparentTemperatureHighTime': 1514754000,\n",
       " 'apparentTemperatureLow': -21.37,\n",
       " 'apparentTemperatureLowTime': 1514815200,\n",
       " 'dewPoint': -4,\n",
       " 'humidity': 0.66,\n",
       " 'pressure': 1035.25,\n",
       " 'windSpeed': 5.47,\n",
       " 'windGust': 11.71,\n",
       " 'windGustTime': 1514750400,\n",
       " 'windBearing': 298,\n",
       " 'cloudCover': 0.54,\n",
       " 'uvIndex': 1,\n",
       " 'uvIndexTime': 1514743200,\n",
       " 'visibility': 9.988,\n",
       " 'temperatureMin': -0.62,\n",
       " 'temperatureMinTime': 1514786400,\n",
       " 'temperatureMax': 13.35,\n",
       " 'temperatureMaxTime': 1514750400,\n",
       " 'apparentTemperatureMin': -13.05,\n",
       " 'apparentTemperatureMinTime': 1514786400,\n",
       " 'apparentTemperatureMax': 3.18,\n",
       " 'apparentTemperatureMaxTime': 1514754000}"
      ]
     },
     "execution_count": 88,
     "metadata": {},
     "output_type": "execute_result"
    }
   ],
   "source": [
    "info"
   ]
  },
  {
   "cell_type": "code",
   "execution_count": null,
   "metadata": {},
   "outputs": [],
   "source": []
  }
 ],
 "metadata": {
  "kernelspec": {
   "display_name": "Python 3",
   "language": "python",
   "name": "python3"
  },
  "language_info": {
   "codemirror_mode": {
    "name": "ipython",
    "version": 3
   },
   "file_extension": ".py",
   "mimetype": "text/x-python",
   "name": "python",
   "nbconvert_exporter": "python",
   "pygments_lexer": "ipython3",
   "version": "3.7.2"
  }
 },
 "nbformat": 4,
 "nbformat_minor": 2
}
